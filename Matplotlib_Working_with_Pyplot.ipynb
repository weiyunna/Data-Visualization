{
  "nbformat": 4,
  "nbformat_minor": 0,
  "metadata": {
    "colab": {
      "name": "Matplotlib-Working with Pyplot",
      "version": "0.3.2",
      "provenance": [],
      "include_colab_link": true
    },
    "kernelspec": {
      "name": "python3",
      "display_name": "Python 3"
    }
  },
  "cells": [
    {
      "cell_type": "markdown",
      "metadata": {
        "id": "view-in-github",
        "colab_type": "text"
      },
      "source": [
        "<a href=\"https://colab.research.google.com/github/weiyunna/Data-Visualization/blob/master/Matplotlib_Working_with_Pyplot.ipynb\" target=\"_parent\"><img src=\"https://colab.research.google.com/assets/colab-badge.svg\" alt=\"Open In Colab\"/></a>"
      ]
    },
    {
      "metadata": {
        "id": "1i4vX-Av_TiZ",
        "colab_type": "text"
      },
      "cell_type": "markdown",
      "source": [
        "# Intro to Pyplot"
      ]
    },
    {
      "metadata": {
        "id": "v9ybtctH_YC3",
        "colab_type": "text"
      },
      "cell_type": "markdown",
      "source": [
        "matplotlib.pyplot is a collection of **command style functions** that make matplotlib work like MATLAB. \n",
        "\n",
        "Each pyplot function makes some change to a figure: e.g., \n",
        "* creates a figure, creates a plotting area in a figure, \n",
        "* plots some lines in a plotting area, \n",
        "* decorates the plot with labels, etc.\n",
        "\n",
        "In matplotlib.pyplot **various states** are preserved across function calls, \n",
        "* so that it keeps track of things like the current figure and plotting area, \n",
        "* and the plotting functions are directed to the current axes \n",
        "* (please note that \"axes\" here and in most places in the documentation refers to the axes part of a figure and not the strict mathematical term for more than one axis)."
      ]
    },
    {
      "metadata": {
        "id": "lh1g2vcZACxo",
        "colab_type": "text"
      },
      "cell_type": "markdown",
      "source": [
        "## Generating visualizations with pyplot is very quick:"
      ]
    },
    {
      "metadata": {
        "id": "02R6wQWy_WwY",
        "colab_type": "code",
        "colab": {
          "base_uri": "https://localhost:8080/",
          "height": 347
        },
        "outputId": "78638ac2-1226-47de-aceb-c8709eb01acd"
      },
      "cell_type": "code",
      "source": [
        "import matplotlib.pyplot as plt\n",
        "plt.plot([1, 2, 3, 4])\n",
        "plt.ylabel('some numbers')\n",
        "plt.show()"
      ],
      "execution_count": 1,
      "outputs": [
        {
          "output_type": "display_data",
          "data": {
            "image/png": "[encoded data removed]",
            "text/plain": [
              "<Figure size 576x396 with 1 Axes>"
            ]
          },
          "metadata": {
            "tags": []
          }
        }
      ]
    },
    {
      "metadata": {
        "id": "MvU8wUEQAIgX",
        "colab_type": "code",
        "colab": {}
      },
      "cell_type": "code",
      "source": [
        ""
      ],
      "execution_count": 0,
      "outputs": []
    }
  ]
}