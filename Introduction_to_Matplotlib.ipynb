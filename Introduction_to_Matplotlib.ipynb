{
  "nbformat": 4,
  "nbformat_minor": 0,
  "metadata": {
    "colab": {
      "name": "Introduction to Matplotlib",
      "version": "0.3.2",
      "provenance": [],
      "collapsed_sections": [],
      "toc_visible": true,
      "include_colab_link": true
    },
    "kernelspec": {
      "name": "python3",
      "display_name": "Python 3"
    }
  },
  "cells": [
    {
      "cell_type": "markdown",
      "metadata": {
        "id": "view-in-github",
        "colab_type": "text"
      },
      "source": [
        "<a href=\"https://colab.research.google.com/github/weiyunna/Data-Visualization/blob/master/Introduction_to_Matplotlib.ipynb\" target=\"_parent\"><img src=\"https://colab.research.google.com/assets/colab-badge.svg\" alt=\"Open In Colab\"/></a>"
      ]
    },
    {
      "metadata": {
        "id": "AH_HTJcafXY_",
        "colab_type": "text"
      },
      "cell_type": "markdown",
      "source": [
        "# Matplotlib Tutorial: Python Plotting\n",
        "\n",
        "This Matplotlib tutorial takes you through the basics Python data visualization: the anatomy of a plot, pyplot and pylab, and much more\n",
        "\n",
        "Humans are very visual creatures: we understand things better when we see things visualized. However, the step to presenting analyses, results or insights can be a bottleneck: you might not even know where to start or you might have already a right format in mind, but then questions like “Is this the right way to visualize the insights that I want to bring to my audience?” will have definitely come across your mind."
      ]
    },
    {
      "metadata": {
        "id": "_6t8PmELfvo2",
        "colab_type": "text"
      },
      "cell_type": "markdown",
      "source": [
        "When you’re working with the Python plotting library Matplotlib, the first step to answering the above questions is by building up knowledge on topics like:\n",
        "\n",
        "* **The anatomy of a Matplotlib plot:** what is a subplot? What are the Axes? What exactly is a figure?\n",
        "* **Plot creation**, which could raise questions about what module you exactly need to import (pylab or pyplot?), how you exactly should go about initializing the figure and the Axes of your plot, how to use matplotlib in Jupyter notebooks, etc.\n",
        "* **Plotting routines**, from simple ways to plot your data to more advanced ways of visualizing your data.\n",
        "* **Basic plot customizations**, with a focus on plot legends and text, titles, axes labels and plot layout.\n",
        "*  **Saving, showing, clearing, … your plots**: show the plot, save one or more figures to, for example, pdf files, clear the axes, clear the figure or close the plot, etc.\n",
        "* Lastly, you’ll briefly cover two ways in which you can **customize Matplotlib**: with style sheets and the rc settings.\n"
      ]
    },
    {
      "metadata": {
        "id": "XdmM-IqNgrh2",
        "colab_type": "text"
      },
      "cell_type": "markdown",
      "source": [
        "# What Does A Matplotlib Python Plot Look Like?\n",
        "\n",
        "At first sight, it will seem that there are quite some components to consider when you start plotting with this Python data visualization library. You’ll probably agree with me that it’s confusing and sometimes even discouraging seeing the amount of code that is necessary for some plots, not knowing where to start yourself and which components you should use.\n",
        "\n",
        "Luckily, this library is very flexible and has a lot of handy, built-in defaults that will help you out tremendously. As such, you don’t need much to get started: you need to make the necessary imports, prepare some data, and you can start plotting with the help of the plot() function! When you’re ready, don’t forget to show your plot using the show() function."
      ]
    },
    {
      "metadata": {
        "id": "mHbXqD4xg3qO",
        "colab_type": "text"
      },
      "cell_type": "markdown",
      "source": [
        "Look at this example to see how easy it really is:"
      ]
    },
    {
      "metadata": {
        "id": "lmAAEUtTfvA2",
        "colab_type": "code",
        "colab": {
          "base_uri": "https://localhost:8080/",
          "height": 347
        },
        "outputId": "3ec66168-5472-42c2-9c09-f10fa3f37639"
      },
      "cell_type": "code",
      "source": [
        "# Import the necessary packages and modules\n",
        "import matplotlib.pyplot as plt\n",
        "import numpy as np\n",
        "\n",
        "# Prepare the data\n",
        "x = np.linspace(0, 10, 100)\n",
        "\n",
        "# Plot the data\n",
        "plt.plot(x, x, label='linear')\n",
        "\n",
        "# Add a legend\n",
        "plt.legend()\n",
        "\n",
        "# Show the plot\n",
        "plt.show()"
      ],
      "execution_count": 1,
      "outputs": [
        {
          "output_type": "display_data",
          "data": {
            "image/png": "[encoded data removed]",
            "text/plain": [
              "<Figure size 576x396 with 1 Axes>"
            ]
          },
          "metadata": {
            "tags": []
          }
        }
      ]
    },
    {
      "metadata": {
        "id": "teoRPCfVhI9m",
        "colab_type": "text"
      },
      "cell_type": "markdown",
      "source": [
        "Note that you import the** pyplot** module of the** matplotlib library** under the alias **plt.**"
      ]
    },
    {
      "metadata": {
        "id": "ydoKIqtGhmRv",
        "colab_type": "text"
      },
      "cell_type": "markdown",
      "source": [
        "What you can’t see on the surface is that you have -maybe unconsciously- made use of the built-in defaults that take care of the creation of the underlying components, such as the Figure and the Axes. You’ll read more about these defaults in the section that deals with the differences between pylab and pyplot.\n",
        "\n",
        "For now, you’ll understand that working with matplotlib will already become a lot easier when you understand how the underlying components are instantiated. Or, in other words, what the anatomy of a matplotlib plot looks like:\n"
      ]
    },
    {
      "metadata": {
        "id": "nDxc7r3dir7n",
        "colab_type": "text"
      },
      "cell_type": "markdown",
      "source": [
        "In essence, there are two big components that you need to take into account:\n",
        "\n",
        "* The **Figure** is the overall window or page that everything is drawn on. It’s the top-level component of all the ones that you will consider in the following points. You can create multiple independent Figures. A Figure can have several other things in it, such as a suptitle, which is a centered title to the figure. You’ll also find that you can add a legend and color bar, for example, to your Figure.\n",
        "* To the figure you add Axes. The Axes is the area on which the data is plotted with functions such as **plot() ** and **scatter()** and that can have ticks, labels, etc. associated with it. This explains why Figures can contain multiple Axes."
      ]
    },
    {
      "metadata": {
        "id": "W8HoD2BjjCw-",
        "colab_type": "text"
      },
      "cell_type": "markdown",
      "source": [
        "**Tip:** when you see, for example, **plt.xlim**, you’ll call **ax.set_xlim()** behind the covers. All methods of an Axes object exist as a function in the pyplot module and vice versa. Note that mostly, you’ll use the functions of the pyplot module because they’re much cleaner, at least for simple plots!"
      ]
    },
    {
      "metadata": {
        "id": "fmAGHO-yjKc_",
        "colab_type": "text"
      },
      "cell_type": "markdown",
      "source": [
        "You’ll see what “clean” means when you take a look at the following pieces of code. Compare, for example, this piece of code:\n",
        "\n"
      ]
    },
    {
      "metadata": {
        "id": "SuQn7Cybg7M9",
        "colab_type": "code",
        "colab": {
          "base_uri": "https://localhost:8080/",
          "height": 347
        },
        "outputId": "563a1ba5-18ab-4b05-88f4-503d5d10728c"
      },
      "cell_type": "code",
      "source": [
        "import matplotlib.pyplot as plt\n",
        "fig = plt.figure()\n",
        "ax = fig.add_subplot(111)\n",
        "ax.plot([1, 2, 3, 4], [10, 20, 25, 30], color='lightblue', linewidth=3)\n",
        "ax.scatter([0.3, 3.8, 1.2, 2.5], [11, 25, 9, 26], color='darkgreen', marker='^')\n",
        "ax.set_xlim(0.5, 4.5)\n",
        "plt.show()"
      ],
      "execution_count": 5,
      "outputs": [
        {
          "output_type": "display_data",
          "data": {
            "image/png": "[encoded data removed]",
            "text/plain": [
              "<Figure size 576x396 with 1 Axes>"
            ]
          },
          "metadata": {
            "tags": []
          }
        }
      ]
    },
    {
      "metadata": {
        "id": "8C_wP3G0ja7K",
        "colab_type": "code",
        "colab": {
          "base_uri": "https://localhost:8080/",
          "height": 347
        },
        "outputId": "13b2e207-5f9a-4b96-d34f-408213c941a7"
      },
      "cell_type": "code",
      "source": [
        "import matplotlib.pyplot as plt\n",
        "plt.plot([1, 2, 3, 4], [10, 20, 25, 30], color='lightblue', linewidth=3)\n",
        "plt.scatter([0.3, 3.8, 1.2, 2.5], [11, 25, 9, 26], color='darkgreen', marker='^')\n",
        "plt.xlim(0.5, 4.5)\n",
        "plt.show()"
      ],
      "execution_count": 3,
      "outputs": [
        {
          "output_type": "display_data",
          "data": {
            "image/png": "[encoded data removed]",
            "text/plain": [
              "<Figure size 576x396 with 1 Axes>"
            ]
          },
          "metadata": {
            "tags": []
          }
        }
      ]
    },
    {
      "metadata": {
        "id": "DMxrsvyqkiC4",
        "colab_type": "text"
      },
      "cell_type": "markdown",
      "source": [
        "However, if you have multiple axes, it’s still better to make use of the first code chunk because it’s always better to prefer explicit above implicit code! In such cases, you want to make use of the Axes object **ax**."
      ]
    },
    {
      "metadata": {
        "id": "CJJ14i95kuz4",
        "colab_type": "text"
      },
      "cell_type": "markdown",
      "source": [
        "Next to these two components, there are a couple more that you can keep in mind:\n",
        "\n",
        "* Each Axes has an **x-axis **and a **y-axis**, which contain **ticks**, which have major and minor ticklines and ticklabels. There’s also the axis **labels**, **title**, and **legend** to consider when you want to customize your axes, but also taking into account the axis ** scales**  and **gridlines** might come in handy.\n",
        "\n",
        "* **Spines** are lines that connect the axis tick marks and that designate the boundaries of the data area. In other words, they are the simple black square that you get to see when you don’t plot any data at all but when you have initialized the Axes, like in the picture below:"
      ]
    },
    {
      "metadata": {
        "id": "pKfaqvC8lp4H",
        "colab_type": "text"
      },
      "cell_type": "markdown",
      "source": [
        "**Note** that you’ll sometimes also read about **Artist objects**, which are virtually all objects that the package has to offers to users like yourself. Everything drawn using Matplotlib is part of the Artist module. The containers that you will use to plot your data, such as Axis, Axes and Figure, and other graphical objects such as text, patches, etc. are types of Artists."
      ]
    },
    {
      "metadata": {
        "id": "2T_kY7mgmBNe",
        "colab_type": "text"
      },
      "cell_type": "markdown",
      "source": [
        "#Multiple Axes\n",
        "\n",
        "We've mentioned before that a figure can have more than one Axes on it. If you want your axes to be on a regular grid system, then it's easiest to use **plt.subplots(...) ** to create a figure and add the axes to it automatically.\n",
        "\n",
        "For example:"
      ]
    },
    {
      "metadata": {
        "id": "uDekBM4hjpbq",
        "colab_type": "code",
        "colab": {
          "base_uri": "https://localhost:8080/",
          "height": 351
        },
        "outputId": "c7f144a3-9caf-442c-c6c4-9dc0e403b3a1"
      },
      "cell_type": "code",
      "source": [
        "fig, axes = plt.subplots(nrows=2, ncols=2)\n",
        "plt.show()"
      ],
      "execution_count": 6,
      "outputs": [
        {
          "output_type": "display_data",
          "data": {
            "image/png": "[encoded data removed]",
            "text/plain": [
              "<Figure size 576x396 with 4 Axes>"
            ]
          },
          "metadata": {
            "tags": []
          }
        }
      ]
    },
    {
      "metadata": {
        "id": "_mbZnywOmere",
        "colab_type": "text"
      },
      "cell_type": "markdown",
      "source": [
        "\n",
        "**plt.subplots(...)** created a new figure and added 4 subplots to it. The axes object that was returned is a 2D numpy object array. Each item in the array is one of the subplots. They're laid out as you see them on the figure.\n",
        "\n",
        "Therefore, when we want to work with one of these axes, we can index the axes array and use that item's methods.\n",
        "\n",
        "For example:"
      ]
    },
    {
      "metadata": {
        "id": "3BJnND0qmVJD",
        "colab_type": "code",
        "colab": {
          "base_uri": "https://localhost:8080/",
          "height": 345
        },
        "outputId": "82528de8-7c68-42c5-8909-f68a8ef4c449"
      },
      "cell_type": "code",
      "source": [
        "fig, axes = plt.subplots(nrows=2, ncols=2)\n",
        "axes[0,0].set(title='Upper Left')\n",
        "axes[0,1].set(title='Upper Right')\n",
        "axes[1,0].set(title='Lower Left')\n",
        "axes[1,1].set(title='Lower Right')\n",
        "\n",
        "# To iterate over all items in a multidimensional numpy array, use the `flat` attribute\n",
        "for ax in axes.flat:\n",
        "    # Remove all xticks and yticks...\n",
        "    ax.set(xticks=[], yticks=[])\n",
        "    \n",
        "plt.show()"
      ],
      "execution_count": 7,
      "outputs": [
        {
          "output_type": "display_data",
          "data": {
            "image/png": "[encoded data removed]",
            "text/plain": [
              "<Figure size 576x396 with 4 Axes>"
            ]
          },
          "metadata": {
            "tags": []
          }
        }
      ]
    },
    {
      "metadata": {
        "id": "IBKd1361m7WX",
        "colab_type": "text"
      },
      "cell_type": "markdown",
      "source": [
        "\n",
        "One really nice thing about **plt.subplots()** is that when it's called with no arguments, it creates a new figure with a single subplot.\n",
        "\n",
        "Any time you see something like\n",
        "\n",
        "`fig = plt.figure()`\n",
        "\n",
        "`ax = fig.add_subplot(111)`\n",
        "\n",
        "You can replace it with:\n",
        " \n",
        " `fig, ax = plt.subplots()`\n",
        " \n",
        "We'll be using that approach for the rest of the examples. It's much cleaner.\n",
        "\n",
        "However, keep in mind that we're still creating a figure and adding axes to it. When we start making plot layouts that can't be described by subplots, we'll go back to creating the figure first and then adding axes to it one-by-one."
      ]
    },
    {
      "metadata": {
        "id": "xu0-tQA-mpBW",
        "colab_type": "code",
        "colab": {
          "base_uri": "https://localhost:8080/",
          "height": 330
        },
        "outputId": "52b542d3-0800-43f8-8b95-a98b1f6fd33d"
      },
      "cell_type": "code",
      "source": [
        "fig, axes = plt.subplots(nrows=3, ncols=1)\n",
        "\n",
        "# To iterate over all items in a multidimensional numpy array, use the `flat` attribute\n",
        "for ax in axes.flat:\n",
        "    # Remove all xticks and yticks...\n",
        "    ax.set(xticks=[], yticks=[])\n",
        "    \n",
        "plt.show()"
      ],
      "execution_count": 10,
      "outputs": [
        {
          "output_type": "display_data",
          "data": {
            "image/png": "[encoded data removed]",
            "text/plain": [
              "<Figure size 576x396 with 3 Axes>"
            ]
          },
          "metadata": {
            "tags": []
          }
        }
      ]
    },
    {
      "metadata": {
        "id": "c-AF5EEOocsD",
        "colab_type": "code",
        "colab": {
          "base_uri": "https://localhost:8080/",
          "height": 308
        },
        "outputId": "f3fea1cd-11ef-4f91-c2a1-5268e7ebc7ef"
      },
      "cell_type": "code",
      "source": [
        "\n",
        "# Try to reproduce the figure shown in images/exercise_1-1.png\n",
        "fig, axes = plt.subplots(nrows=3, ncols=1)\n",
        "\n",
        "ax1 = fig.add_axes([0.1, 0.5, 0.8, 0.4],\n",
        "                   ylim=(-1.2, 1.2))\n",
        "\n",
        "ax2 = fig.add_axes([0.1, 0.1, 0.8, 0.4],\n",
        "                   ylim=(-1.2, 1.2))\n",
        "\n",
        "ax3 = fig.add_axes([0.1, 0.1, 0.8, 0.4],\n",
        "                   ylim=(-1.2, 1.2))\n",
        "\n",
        "x = np.linspace(0, 10)\n",
        "ax1.plot(np.cos(x))\n",
        "ax2.plot(np.cos(x+1))\n",
        "ax3.plot(np.cos(x+2))\n"
      ],
      "execution_count": 57,
      "outputs": [
        {
          "output_type": "stream",
          "text": [
            "/usr/local/lib/python3.6/dist-packages/matplotlib/figure.py:98: MatplotlibDeprecationWarning: \n",
            "Adding an axes using the same arguments as a previous axes currently reuses the earlier instance.  In a future version, a new instance will always be created and returned.  Meanwhile, this warning can be suppressed, and the future behavior ensured, by passing a unique label to each axes instance.\n",
            "  \"Adding an axes using the same arguments as a previous axes \"\n"
          ],
          "name": "stderr"
        },
        {
          "output_type": "execute_result",
          "data": {
            "text/plain": [
              "[<matplotlib.lines.Line2D at 0x7ff3025918d0>]"
            ]
          },
          "metadata": {
            "tags": []
          },
          "execution_count": 57
        },
        {
          "output_type": "display_data",
          "data": {
            "image/png": "[encoded data removed]",
            "text/plain": [
              "<Figure size 360x216 with 5 Axes>"
            ]
          },
          "metadata": {
            "tags": []
          }
        }
      ]
    },
    {
      "metadata": {
        "id": "31eVB5fzqeyI",
        "colab_type": "code",
        "colab": {
          "base_uri": "https://localhost:8080/",
          "height": 374
        },
        "outputId": "675e120e-8d07-4116-c190-b84c458850ee"
      },
      "cell_type": "code",
      "source": [
        "# Create some normally distributed data\n",
        "mean = [0, 0]\n",
        "cov = [[1, 1], [1, 2]]\n",
        "x, y = np.random.multivariate_normal(mean, cov, 3000).T\n",
        "\n",
        "# Set up the axes with gridspec\n",
        "fig = plt.figure(figsize=(6, 6))\n",
        "grid = plt.GridSpec(4, 4, hspace=0.2, wspace=0.2)\n",
        "main_ax = fig.add_subplot(grid[:-1, 1:])\n",
        "y_hist = fig.add_subplot(grid[:-1, 0], xticklabels=[], sharey=main_ax)\n",
        "x_hist = fig.add_subplot(grid[-1, 1:], yticklabels=[], sharex=main_ax)\n",
        "\n",
        "# scatter points on the main axes\n",
        "main_ax.plot(x, y, 'ok', markersize=3, alpha=0.2)\n",
        "\n",
        "# histogram on the attached axes\n",
        "x_hist.hist(x, 40, histtype='stepfilled',\n",
        "            orientation='vertical', color='gray')\n",
        "x_hist.invert_yaxis()\n",
        "\n",
        "y_hist.hist(y, 40, histtype='stepfilled',\n",
        "            orientation='horizontal', color='gray')\n",
        "y_hist.invert_xaxis()"
      ],
      "execution_count": 20,
      "outputs": [
        {
          "output_type": "display_data",
          "data": {
            "image/png": "[encoded data removed]",
            "text/plain": [
              "<Figure size 432x432 with 3 Axes>"
            ]
          },
          "metadata": {
            "tags": []
          }
        }
      ]
    },
    {
      "metadata": {
        "id": "yI1exKedumKm",
        "colab_type": "code",
        "colab": {
          "base_uri": "https://localhost:8080/",
          "height": 330
        },
        "outputId": "886f3e32-4689-4637-f040-98dbba09fd8f"
      },
      "cell_type": "code",
      "source": [
        "# Set up the axes with gridspec\n",
        "fig = plt.figure(figsize=(10, 10))\n",
        "grid = plt.GridSpec(6, 6, hspace=0.8, wspace=0.8)\n",
        "ax1 = fig.add_subplot(grid[0, 1:])\n",
        "ax2 = fig.add_subplot(grid[1, 1:], sharex=ax1)\n",
        "ax3 = fig.add_subplot(grid[2, 1:], sharex=ax1)\n",
        "\n",
        "x = np.linspace(0, 10,100)\n",
        "ax1.plot(np.cos(x), color='gray')\n",
        "ax1.set_title('Signal 1')\n",
        "ax2.plot(np.cos(x+1), color='red')\n",
        "ax2.set_title('Signal 2')\n",
        "ax3.plot(np.cos(x+2))\n",
        "ax3.set_title('Signal 3')\n",
        "\n",
        "\n"
      ],
      "execution_count": 55,
      "outputs": [
        {
          "output_type": "execute_result",
          "data": {
            "text/plain": [
              "Text(0.5, 1.0, 'Signal 3')"
            ]
          },
          "metadata": {
            "tags": []
          },
          "execution_count": 55
        },
        {
          "output_type": "display_data",
          "data": {
            "image/png": "[encoded data removed]",
            "text/plain": [
              "<Figure size 720x720 with 3 Axes>"
            ]
          },
          "metadata": {
            "tags": []
          }
        }
      ]
    },
    {
      "metadata": {
        "id": "qQesT5t6co4E",
        "colab_type": "text"
      },
      "cell_type": "markdown",
      "source": [
        "# Matplotlib, pyplot and pylab: how are they related?\n",
        "\n",
        "First off, you’ll already know Matplotlib by now. When you talk about “Matplotlib”, you talk about the whole Python data visualization package. This should not come to you as a big surprise :)\n",
        "\n",
        "Secondly, **pyplot** is a module in the **matplotlib** package. That’s why you often see **matplotlib.pyplot** in code. The module provides an interface that allows you to implicitly and automatically create figures and axes to achieve the desired plot.\n",
        "\n",
        "This is especially handy when you want to quickly plot something without instantiating any Figures or Axes, as you saw in the example in the first section of this tutorial. You see, you haven’t explicitly specified these components, yet you manage to output a plot that you have even customized! The defaults are initialized and any customizations that you do, will be done with the current Figure and Axes in mind."
      ]
    },
    {
      "metadata": {
        "id": "yDLxU7PadAW8",
        "colab_type": "text"
      },
      "cell_type": "markdown",
      "source": [
        "Lastly, **pylab** is another module, but it gets installed alongside the **matplotlib** package. It bulk imports **pyplot** and the **numpy** library and was generally recommended when you were working with arrays, doing mathematics interactively and wanted access to plotting features.\n",
        "\n",
        "You might still see this popping up in older tutorials and examples of matplotlib, but its use is no longer recommended, especially not when you’re using the IPython kernel in your Jupyter notebook. You can read more about this here."
      ]
    },
    {
      "metadata": {
        "id": "7I03oQRDdQLE",
        "colab_type": "text"
      },
      "cell_type": "markdown",
      "source": [
        "As a solution, you can best use **%matplotlib **magic in combination with the right backend, such as **inline**, **qt**, etc. Most of the times, you will want to use **inline**, as this will make sure that the plots are embedded inside the notebook. Read more about that in DataCamp’s Definitive Guide to Jupyter Notebook."
      ]
    },
    {
      "metadata": {
        "id": "3rDyx9VAdrsg",
        "colab_type": "text"
      },
      "cell_type": "markdown",
      "source": [
        "**Note** that also when you’re not working in a Jupyter notebook, you’ll still need to choose a different backend, depending on your use case. In other words, if you don’t want to embed plots inside a notebook, but you rather want to embed them into graphical user interfaces, in batch scripts or web application servers, etc., you will need to specify the backend that you want to use. However, this topic is outside the scope of this tutorial; Instead, the tutorial assumes that you will be using Matplotlib to save your images to your local file system"
      ]
    },
    {
      "metadata": {
        "id": "P_mNT7Zjd-5E",
        "colab_type": "text"
      },
      "cell_type": "markdown",
      "source": [
        "# Data For Matplotlib Plots\n",
        "\n",
        "As you have read in one of the previous sections, Matplotlib is often used to visualize analyses or calcuations. That’s why the first step that you have to take in order to start plotting in Python yourself is to consider revising NumPy, the Python library for scientific computing.\n",
        "\n",
        "Scientific computing might not really seem of much interest, but when you’re doing data science you’ll find yourself working a lot with data that is stored in arrays. You’ll need to perform operations on them, inspect your arrays and manipulate them so that you’re working with the (subset of the) data that is interesting for your analysis and that is in the right format, etc.\n",
        "\n",
        "In short, you’ll find NumPy extremely handy when you’re working with this data visualization library. If you’re interested in taking a NumPy tutorial to start well-prepared, go and take DataCamp’s tutorial and make sure to have your copy of our NumPy cheat sheet close!\n",
        "\n",
        "Of course, arrays are not the only thing that you pass to your plotting functions; There’s also the possibility to, for example, pass Python lists. If you would like to know more about Python lists, consider checking out our Python list tutorial or the free Intro to Python for Data Sciencecourse."
      ]
    },
    {
      "metadata": {
        "id": "Et9HsR8-eP_k",
        "colab_type": "text"
      },
      "cell_type": "markdown",
      "source": [
        "# Create Your Plot\n",
        "\n",
        "Alright, you’re off to create your first plot yourself with Python! As you have read in one of the previous sections, the Figure is the first step and the key to unlocking the power of this package. Next, you see that you initialize the axes of the Figure in the code chunk above with **fig.add_axes()**:"
      ]
    },
    {
      "metadata": {
        "id": "LGRXeXrZwVxx",
        "colab_type": "code",
        "colab": {
          "base_uri": "https://localhost:8080/",
          "height": 285
        },
        "outputId": "c436aa57-bfc7-4d09-807d-8559b603d1c8"
      },
      "cell_type": "code",
      "source": [
        "# Import `pyplot`\n",
        "import matplotlib.pyplot as plt\n",
        "\n",
        "# Initialize a Figure \n",
        "fig = plt.figure()\n",
        "\n",
        "# Add Axes to the Figure\n",
        "fig.add_axes([0,0,1,1])"
      ],
      "execution_count": 58,
      "outputs": [
        {
          "output_type": "execute_result",
          "data": {
            "text/plain": [
              "<matplotlib.axes._axes.Axes at 0x7ff30307d0f0>"
            ]
          },
          "metadata": {
            "tags": []
          },
          "execution_count": 58
        },
        {
          "output_type": "display_data",
          "data": {
            "image/png": "[encoded data removed]",
            "text/plain": [
              "<Figure size 360x216 with 1 Axes>"
            ]
          },
          "metadata": {
            "tags": []
          }
        }
      ]
    },
    {
      "metadata": {
        "id": "CgXT1fWXeyXc",
        "colab_type": "text"
      },
      "cell_type": "markdown",
      "source": [
        "# What Is A Subplot?\n",
        "You have seen all components of a plot and you have initialized your first figure and Axes, but to make things a bit more complicated, you’ll sometimes see subplots pop up in code.\n",
        "\n",
        "Now, don’t get discouraged just yet!\n",
        "\n",
        "You use subplots to set up and place your Axes on a regular grid. So that means that in most cases, Axes and subplot are synonymous, they will designate the same thing. When you do call subplot to add Axes to your figure, do so with the **add_subplots()** function. There is, however, a difference between the **add_axes()** and the **add_subplots()** function, but you’ll learn more about this later on in the tutorial.\n",
        "\n",
        "Consider the following example:"
      ]
    },
    {
      "metadata": {
        "id": "8Yb5Vv_ueYo4",
        "colab_type": "code",
        "colab": {
          "base_uri": "https://localhost:8080/",
          "height": 211
        },
        "outputId": "f68cad40-16cb-45ec-c41b-49595700a4eb"
      },
      "cell_type": "code",
      "source": [
        "# Import the necessary packages and modules\n",
        "import matplotlib.pyplot as plt\n",
        "import numpy as np\n",
        "\n",
        "# Create a Figure\n",
        "fig = plt.figure()\n",
        "\n",
        "# Set up Axes\n",
        "ax = fig.add_subplot(111)\n",
        "\n",
        "# Scatter the data\n",
        "ax.scatter(np.linspace(0, 1, 5), np.linspace(0, 5, 5))\n",
        "\n",
        "# Show the plot\n",
        "plt.show()"
      ],
      "execution_count": 59,
      "outputs": [
        {
          "output_type": "display_data",
          "data": {
            "image/png": "[encoded data removed]",
            "text/plain": [
              "<Figure size 360x216 with 1 Axes>"
            ]
          },
          "metadata": {
            "tags": []
          }
        }
      ]
    },
    {
      "metadata": {
        "id": "GUazg1RGfY59",
        "colab_type": "text"
      },
      "cell_type": "markdown",
      "source": [
        "You see that the add_subplot() function in itsef also poses you with a challenge, because you see **add_subplots**(111) in the above code chunk.\n",
        "\n",
        "What does **111** mean?\n",
        "\n",
        "Well, **111** is equal to 1,1,1, which means that you actually give three arguments to add_subplot(). The three arguments designate the** number of rows (1),**  **the number of columns (1)** and** the plot number (1)**. So you actually make one subplot."
      ]
    },
    {
      "metadata": {
        "id": "A2t3sYbwfk1-",
        "colab_type": "text"
      },
      "cell_type": "markdown",
      "source": [
        "Note that you can really go bananas with this function when you are using this function, especially when you’re just starting out with this library and you keep on forgetting for what the three numbers stand."
      ]
    },
    {
      "metadata": {
        "id": "9XnBtsB8frKc",
        "colab_type": "text"
      },
      "cell_type": "markdown",
      "source": [
        "Consider the following commands and try to envision what the plot will look like and how many Axes your Figure will have: `ax = fig.add_subplot(2,2,1)`.\n",
        "\n",
        "Got it?"
      ]
    },
    {
      "metadata": {
        "id": "Q6pMecUZfBeF",
        "colab_type": "code",
        "colab": {
          "base_uri": "https://localhost:8080/",
          "height": 126
        },
        "outputId": "e6272790-cea4-4761-e4a9-91e34b561abd"
      },
      "cell_type": "code",
      "source": [
        "# Create a Figure\n",
        "fig = plt.figure()\n",
        "\n",
        "# Set up Axes\n",
        "ax = fig.add_subplot(221)"
      ],
      "execution_count": 62,
      "outputs": [
        {
          "output_type": "display_data",
          "data": {
            "image/png": "[encoded data removed]",
            "text/plain": [
              "<Figure size 360x216 with 1 Axes>"
            ]
          },
          "metadata": {
            "tags": []
          }
        }
      ]
    },
    {
      "metadata": {
        "id": "M9AGGB4jfxU8",
        "colab_type": "code",
        "colab": {
          "base_uri": "https://localhost:8080/",
          "height": 126
        },
        "outputId": "fe79c948-126e-45af-97c4-31f3a8d8f1ff"
      },
      "cell_type": "code",
      "source": [
        "# Create a Figure\n",
        "fig = plt.figure()\n",
        "\n",
        "# Set up Axes\n",
        "ax = fig.add_subplot(222)"
      ],
      "execution_count": 64,
      "outputs": [
        {
          "output_type": "display_data",
          "data": {
            "image/png": "[encoded data removed]",
            "text/plain": [
              "<Figure size 360x216 with 1 Axes>"
            ]
          },
          "metadata": {
            "tags": []
          }
        }
      ]
    },
    {
      "metadata": {
        "id": "-Dr28BGZgNWN",
        "colab_type": "text"
      },
      "cell_type": "markdown",
      "source": [
        "That’s right, your Figure will have four axes in total, arranged in a structure that has two rows and two columns. With the line of code that you have considered, you say that the variable **ax is the first of the four axes** to which you want to start plotting. The “first” in this case means that it will be the first axes on the left of the 2x2 structure that you have initialized."
      ]
    },
    {
      "metadata": {
        "id": "T3IeMP7mhQ-u",
        "colab_type": "text"
      },
      "cell_type": "markdown",
      "source": [
        "# What Is The Difference Between add_axes() and add_subplot()?\n",
        "\n",
        "The difference between** fig.add_axes() **and** fig.add_subplot()** doesn’t lie in the result: they both return an Axes object. However, they do differ in the mechanism that is used to add the axes: you pass a list to **add_axes()** which is the lower left point, the width and the height. This means that the axes object is positioned in absolute coordinates.\n",
        "\n",
        "In contrast, the** add_subplot()** function doesn’t provide the option to put the axes at a certain position: it does, however, allow the axes to be situated according to a subplot grid, as you have seen in the section above.\n",
        "\n",
        "**In most cases, you’ll use add_subplot() **to create axes; Only in cases where the positioning matters, you’ll resort to add_axes(). Alternatively, you can also use subplots() if you want to get one or more subplots at the same time. You’ll see an example of how this works in the next section."
      ]
    },
    {
      "metadata": {
        "id": "tQ7tnnEChrI9",
        "colab_type": "text"
      },
      "cell_type": "markdown",
      "source": [
        "# How To Change The Size of Figures\n",
        "\n",
        "Now that you have seen how to initialize a Figure and Axes from scratch, you will also want to know how you can change certain small details that the package sets up for you, such as the figure size.\n",
        "\n",
        "Let’s say you don’t have the luxury to follow along with the defaults and you want to change this. How do you set the size of your figures manually?"
      ]
    },
    {
      "metadata": {
        "id": "Rfo83dE_h0V1",
        "colab_type": "text"
      },
      "cell_type": "markdown",
      "source": [
        "Like everything with this package, it’s pretty easy, but you need to know first what to change."
      ]
    },
    {
      "metadata": {
        "id": "64q4k-8CiDSV",
        "colab_type": "text"
      },
      "cell_type": "markdown",
      "source": [
        "Add an argument figsize to your **plt.figure()** function of the pyplot module; You just have to specify a tuple with the width and hight of your figure in inches, just like this plt.figure(**figsize**=(3,4)), for it to work.\n",
        "\n",
        "Note that you can also pass **figsize** to the the **plt.subplots() **function of the same module; The inner workings are the same as the figure() function that you’ve just seen.\n",
        "\n",
        "See an example of how this would work here:"
      ]
    },
    {
      "metadata": {
        "id": "CzM9TL3ff8OA",
        "colab_type": "code",
        "colab": {
          "base_uri": "https://localhost:8080/",
          "height": 612
        },
        "outputId": "5018725c-dee8-4d07-94bd-dd5eb825f7bf"
      },
      "cell_type": "code",
      "source": [
        "# Import `pyplot` from `matplotlib`\n",
        "import matplotlib.pyplot as plt\n",
        "\n",
        "# Initialize the plot\n",
        "fig = plt.figure(figsize=(20,10))\n",
        "ax1 = fig.add_subplot(121)\n",
        "ax2 = fig.add_subplot(122)\n",
        "\n",
        "# or replace the three lines of code above by the following line: \n",
        "#fig, (ax1, ax2) = plt.subplots(1,2, figsize=(20,10))\n",
        "\n",
        "# Plot the data\n",
        "ax1.bar([1,2,3],[3,4,5])\n",
        "ax2.barh([0.5,1,2.5],[0,1,2])\n",
        "\n",
        "# Show the plot\n",
        "plt.show()"
      ],
      "execution_count": 65,
      "outputs": [
        {
          "output_type": "display_data",
          "data": {
            "image/png": "[encoded data removed]",
            "text/plain": [
              "<Figure size 1440x720 with 2 Axes>"
            ]
          },
          "metadata": {
            "tags": []
          }
        }
      ]
    },
    {
      "metadata": {
        "id": "E58RMMpjiqVY",
        "colab_type": "text"
      },
      "cell_type": "markdown",
      "source": [
        "# Working With Pyplot: Plotting Routines\n",
        "\n",
        "Now that all is set for you to start plotting your data, it’s time to take a closer look at some plotting routines. You’ll often come across functions like **plot()** and **scatter()**, which either draw points with lines or markers connecting them, or draw unconnected points, which are scaled or colored.\n",
        "\n",
        "But, as you have already seen in the example of the first section, you shouldn’t forget to pass the data that you want these functions to use!\n",
        "\n",
        "These functions are only the bare basics. You will need some other functions to make sure your plots look awesome:"
      ]
    },
    {
      "metadata": {
        "id": "xr-AXkGSi6_u",
        "colab_type": "text"
      },
      "cell_type": "markdown",
      "source": [
        "If you’re curious how you can use these functions to plot your data, consider the following example. Note that the **x** and **y** variables have already been loaded in for you:"
      ]
    },
    {
      "metadata": {
        "id": "ADaY2ZEOiYPa",
        "colab_type": "code",
        "colab": {
          "base_uri": "https://localhost:8080/",
          "height": 213
        },
        "outputId": "009d8f35-b20e-41f7-a608-66d7e31a843c"
      },
      "cell_type": "code",
      "source": [
        "# Import `pyplot` from `matplotlib`\n",
        "import matplotlib.pyplot as plt\n",
        "\n",
        "# Initialize the plot\n",
        "fig = plt.figure()\n",
        "ax1 = fig.add_subplot(131)\n",
        "ax2 = fig.add_subplot(132)\n",
        "ax3 = fig.add_subplot(133)\n",
        "\n",
        "# Plot the data\n",
        "ax1.bar([1,2,3],[3,4,5])\n",
        "ax2.barh([0.5,1,2.5],[0,1,2])\n",
        "ax2.axhline(0.45)\n",
        "ax1.axvline(0.65)\n",
        "ax3.scatter([1,2,3],[4,5,6])\n",
        "\n",
        "# Show the plot\n",
        "plt.show()"
      ],
      "execution_count": 67,
      "outputs": [
        {
          "output_type": "display_data",
          "data": {
            "image/png": "[encoded data removed]",
            "text/plain": [
              "<Figure size 360x216 with 3 Axes>"
            ]
          },
          "metadata": {
            "tags": []
          }
        }
      ]
    },
    {
      "metadata": {
        "id": "ElXwBgoFjsze",
        "colab_type": "text"
      },
      "cell_type": "markdown",
      "source": [
        "Most functions speak for themselves because the names are quite clear. But that doesn’t mean that you need to limit yourself: for example, the **fill_between()** function is perfect for those who want to create area plots, but they can also be used to create a stacked line graph; Just use the plotting function a couple of times to make sure that the areas overlap and give the illusion of being stacked."
      ]
    },
    {
      "metadata": {
        "id": "7MwmtDJ6j20l",
        "colab_type": "text"
      },
      "cell_type": "markdown",
      "source": [
        "Note that, of course, simply passing the data is not enough to create great plots. Make sure to manipulate your data in such a way that the visualization makes sense: don’t be afraid to **change your array shape**, **combine arrays,** etc."
      ]
    },
    {
      "metadata": {
        "id": "15oB7WoFj91N",
        "colab_type": "text"
      },
      "cell_type": "markdown",
      "source": [
        "When you move on and you start to work with vector fields or data distributions, you might want to check out the following functions:"
      ]
    },
    {
      "metadata": {
        "id": "5kcIvofqkhcV",
        "colab_type": "text"
      },
      "cell_type": "markdown",
      "source": [
        "Note of course that you probably won’t use all of the functions listed in these tables; It really depends on your data and your use case. If you’re totally new to data science, you might want to check out the statistical plotting routines first!\n",
        "\n",
        "On the other hand, when you work with 2-D or n-D data, you might also find yourself in need of some more advanced plotting routines, like these ones:"
      ]
    },
    {
      "metadata": {
        "id": "YrY9IvU3kuOF",
        "colab_type": "text"
      },
      "cell_type": "markdown",
      "source": [
        "**Note** that contour plots are used to explore the potential relationship between three variables. Just like contour plots, also pseudocolor plots can be used for this purpose, since they are surface plot seen from above. Of course, this are not nearly all the functions that you can use to plot your data."
      ]
    },
    {
      "metadata": {
        "id": "fd5aDUikkzjY",
        "colab_type": "text"
      },
      "cell_type": "markdown",
      "source": [
        "If you’re working with images or 2D data, for example, you might also want to check out **imshow()** to show images in your subplots. For a practical example of how to use the** imshow()** function, go to DataCamp’s scikit-learn tutorial."
      ]
    },
    {
      "metadata": {
        "id": "XUe7SVgBk9Dv",
        "colab_type": "text"
      },
      "cell_type": "markdown",
      "source": [
        "The examples in the tutorial also make clear that this data visualization library is really the cherry on the pie in the data science workflow: you have to be quite well-versed in general Python concepts, such as lists and control flow, which can come especially handy if you want to automate the plotting for a great number of subplots. If you feel like revising these concepts, consider taking the free introduction to Python for data science course."
      ]
    },
    {
      "metadata": {
        "id": "Pj7kqc07liGl",
        "colab_type": "text"
      },
      "cell_type": "markdown",
      "source": [
        "# Customizing Your PyPlot\n",
        "A lot of questions about this package come from the fact that there are a lot of things that you can do to personalize your plots and make sure that they are unique: besides adjusting the colors, you also have the option to change markers, linestyles and linewidths, add text, legend and annotations, and change the limits and layout of your plots.\n",
        "\n",
        "It’s exactly the fact that there is an endless range of possibilities when it comes to these plots that makes it difficult to set out some things that you need to know when you start working on this topic.\n",
        "\n",
        "Great tips that you should keep in the back of your mind are not only the gallery, which contains many real-life examples that are already coded for you and which you can use, but also the documentation, which can tell you more about the arguments that you can pass to certain functions to adjust visual features."
      ]
    },
    {
      "metadata": {
        "id": "73AEcuj6lnS1",
        "colab_type": "text"
      },
      "cell_type": "markdown",
      "source": [
        "Also keep in mind that there are multiple solutions for one problem and that you learn most of this stuff when you’re getting your hands dirty with the package itself and when you run into troubles. You’ll see some of the most common questions and solutions in this section."
      ]
    },
    {
      "metadata": {
        "id": "Gg2f7YDplwZv",
        "colab_type": "text"
      },
      "cell_type": "markdown",
      "source": [
        "## Deleting an Axes\n",
        "If you ever want to remove an axes form your plot, you can use delaxes() to remove and update the current axes:"
      ]
    },
    {
      "metadata": {
        "id": "wEFnTT3KjB4w",
        "colab_type": "code",
        "colab": {
          "base_uri": "https://localhost:8080/",
          "height": 213
        },
        "outputId": "69ec0d00-ae3c-4039-a037-b335bddbe734"
      },
      "cell_type": "code",
      "source": [
        "# Import `pyplot` from `matplotlib`\n",
        "import matplotlib.pyplot as plt\n",
        "import numpy as np\n",
        "\n",
        "# Initialize the plot\n",
        "fig = plt.figure()\n",
        "ax1 = fig.add_subplot(131)\n",
        "ax2 = fig.add_subplot(132)\n",
        "ax3 = fig.add_subplot(133)\n",
        "\n",
        "# Plot the data\n",
        "ax1.bar([1,2,3],[3,4,5])\n",
        "ax2.barh([0.5,1,2.5],[0,1,2])\n",
        "ax2.axhline(0.45)\n",
        "ax1.axvline(0.65)\n",
        "ax3.scatter(np.linspace(0, 1, 5), np.linspace(0, 5, 5))\n",
        "\n",
        "# Delete `ax3`\n",
        "\n",
        "fig.delaxes(ax3)\n",
        "\n",
        "# Show the plot\n",
        "plt.show()"
      ],
      "execution_count": 69,
      "outputs": [
        {
          "output_type": "display_data",
          "data": {
            "image/png": "[encoded data removed]",
            "text/plain": [
              "<Figure size 360x216 with 2 Axes>"
            ]
          },
          "metadata": {
            "tags": []
          }
        }
      ]
    },
    {
      "metadata": {
        "id": "L47pMZanl84W",
        "colab_type": "text"
      },
      "cell_type": "markdown",
      "source": [
        "Note that you can restore a deleted axes by adding**` fig.add_axes(ax)`** right after **`fig.delaxes(ax3).`**"
      ]
    },
    {
      "metadata": {
        "id": "A--T1kq0j9Al",
        "colab_type": "text"
      },
      "cell_type": "markdown",
      "source": [
        "## How To Put The Legend Out of the Plot\n",
        "There are a number of ways to address this question, but mostly all come back to the arguments that you can provide to**` legend():`**\n",
        "\n",
        "* You can specify the loc or location argument to something like center left or upper right, which ensures that your legend does not fall in the Axes or subplot area.\n",
        "\n",
        "* Alternatively, you can also add the **bbox_to_anchor** argument to your function and pass a tuple with the coordinates in which you want to put the legend. In this case, the box is put in the upper right corner of the plotting area: ax.legend(bbox_to_anchor=(1.1, 1.05))."
      ]
    },
    {
      "metadata": {
        "id": "Ez22GS_VmpSy",
        "colab_type": "text"
      },
      "cell_type": "markdown",
      "source": [
        "## How To Set Plot Title And Axes Labels\n",
        "\n",
        "To change your plot title and axes labels, you can follow one of the following approaches, depending of which container of which you want to make use:\n",
        "\n",
        "* The easiest way to set these things right is by using **`ax.set(title=\"A title\", xlabel=\"x\", ylabel=\"y\") or ax.set_xlim(), ax.set_ylim() or ax.set_title().`**\n",
        "* If you want to work with the figure, you might also resort to **`fig.suptitle()`** to add a title to your plot.\n",
        "* If you’re making use of the default settings that the package has to offer, you might want to use **`plt.title(), plt.xlabel(), plt.ylabel()`**.\n",
        "\n",
        "* Define your own style sheet or change the default **matplotlibrc** settings. Read more about this here."
      ]
    },
    {
      "metadata": {
        "id": "1udZqCNDnGKv",
        "colab_type": "text"
      },
      "cell_type": "markdown",
      "source": [
        "## How To Fix The Plot Layout\n",
        "\n",
        "A thing to consider when you’re using subplots to build up your plot is the **tight_layout** function, which will help you to make sure that the plots fit nicely in your figure. You ideally call it after you have plotted your data and customized your plot; So that’s right before you call **`plt.show() `**that you should use **`plt.tight_layout().`**\n",
        "\n",
        "Additionally, you might also be interested to use **`subplots_adjust()`**, which allows you to manually set the width and height reserved for blank space between subplots, and also fix the left and right sides, and the top and bottom of the subplots."
      ]
    },
    {
      "metadata": {
        "id": "uBELpMRknq6V",
        "colab_type": "text"
      },
      "cell_type": "markdown",
      "source": [
        "# Showing, Saving And Closing Your Plot\n",
        "After you have done all the necessary customizations, you will want to show your plot because, as you will have noticed from working in the terminal, you just get to see that an object is made, but you never see the nice plot every time you make adjustments.\n",
        "\n",
        "In the first example of this tutorial, this was implicitly done;\n",
        "\n",
        "Do you remember? It’s this piece of code:"
      ]
    },
    {
      "metadata": {
        "id": "e70qp2-TnzoX",
        "colab_type": "text"
      },
      "cell_type": "markdown",
      "source": [
        "The line**` plt.show()`** says indeed that you want to see the plot. If you execute this line, you’ll see a window popping up. And you’ll see if it looks like what you had in your mind!\n",
        "\n",
        "But this is where your questions start. How can I save this image and if it’s not to your liking, can you clear the image so that you can start anew? The following short sections will cover these questions."
      ]
    },
    {
      "metadata": {
        "id": "FHdS_-6Yn-9V",
        "colab_type": "text"
      },
      "cell_type": "markdown",
      "source": [
        "## How To Save A Plot To An Image File\n",
        "You can easily save a figure to, for example, a png file by making use of **`plt.savefig()`**. The only argument you need to pass to this function is the file name, just like in this example:"
      ]
    },
    {
      "metadata": {
        "id": "IlyjT1HNoGp2",
        "colab_type": "text"
      },
      "cell_type": "markdown",
      "source": [
        "By just executing this line of code, you’ll save the plot that you have made to an image file instead of displaying it."
      ]
    },
    {
      "metadata": {
        "id": "Ab8DIFahpN5S",
        "colab_type": "code",
        "colab": {}
      },
      "cell_type": "code",
      "source": [
        "# Save Figure\n",
        "plt.savefig(\"foo.png\")\n",
        "\n",
        "# Save Transparent Figure\n",
        "plt.savefig(\"foo.png\", transparent=True)"
      ],
      "execution_count": 0,
      "outputs": []
    },
    {
      "metadata": {
        "id": "NI0555sMoQGe",
        "colab_type": "text"
      },
      "cell_type": "markdown",
      "source": [
        "## How To Save A Plot To A Pdf File\n",
        "If you want to save multiple plots to a pdf file, you want to make use of the pdf backend, which you can easily import:"
      ]
    },
    {
      "metadata": {
        "id": "q4e2KPPspKzG",
        "colab_type": "code",
        "colab": {}
      },
      "cell_type": "code",
      "source": [
        "# Import PdfPages\n",
        "from matplotlib.backends.backend_pdf import PdfPages\n",
        "\n",
        "# Initialize the pdf file\n",
        "pp = PdfPages('multipage.pdf')\n",
        "\n",
        "# Save the figure to the file\n",
        "pp.savefig()\n",
        "\n",
        "# Close the file\n",
        "pp.close()"
      ],
      "execution_count": 0,
      "outputs": []
    },
    {
      "metadata": {
        "id": "U0cI80kWodJW",
        "colab_type": "text"
      },
      "cell_type": "markdown",
      "source": [
        "## When To Use cla(), clf() or close()?\n",
        "When you’re finally ready with the inspection of your plot, it’s time to move on with something else (maybe with another plot!). When you’re working with this data visualization library for the first time, it might be weird at start because you can, of course, shut down the GUI window that appears, but that’s usually not the way you want to handle things, because it doesn’t always work as well when you’re working on several things at a time.\n",
        "\n",
        "You have to explicitly tell Matplotlib to close down the plot that you’ve been working on so that you can move on. There are three functions that will come in handy once you’re at this point:\n",
        "\n",
        "Use \n",
        "* **`plt.cla()`** to clear an axis,\n",
        "* **`plt.clf()`** to clear the entire figure, and\n",
        "* **`plt.close()`** to close a window that has popped up to show you your plot."
      ]
    },
    {
      "metadata": {
        "id": "ngiV70vFo6xF",
        "colab_type": "text"
      },
      "cell_type": "markdown",
      "source": [
        "# Customizing Matplotlib\n",
        "\n",
        "By now, you’re already familiar with some basic options to customize your plots. But what if the customizations that you want to make situate more on a library level instead of a plot level? In such cases, also, you don’t need to panic: Matplotlib offers you several options to adjust some of the internal workings. This section will just cover two options, namely style sheets and rc settings.\n",
        "\n",
        "If you want to know more, definitely check out this page."
      ]
    },
    {
      "metadata": {
        "id": "U-crisiNmgTC",
        "colab_type": "code",
        "colab": {}
      },
      "cell_type": "code",
      "source": [
        " #Import `pyplot` \n",
        "import matplotlib.pyplot as plt\n",
        "\n",
        "# Set the style to `ggplot`\n",
        "plt.style.use(\"ggplot\")"
      ],
      "execution_count": 0,
      "outputs": []
    },
    {
      "metadata": {
        "id": "X4ZsKQg1pbVZ",
        "colab_type": "text"
      },
      "cell_type": "markdown",
      "source": [
        "## rc Settings\n",
        "\n",
        "“rc” is common for configuration files: they usually end in **`rc`**. It comes from the practice of having configs as executables: they are automatically run and configure settings, for example. You can read more about it here. Matplotlib has such an rc file to which you can make adjustments dynamically and statically.\n",
        "\n",
        "To dynamically change default rc settings, you can use the rcParams variable:"
      ]
    },
    {
      "metadata": {
        "id": "olW6bflupDi0",
        "colab_type": "code",
        "colab": {
          "base_uri": "https://localhost:8080/",
          "height": 211
        },
        "outputId": "17399b95-3a45-4787-c246-44f3d26a538e"
      },
      "cell_type": "code",
      "source": [
        "# Import the necessary packages and modules\n",
        "import matplotlib as mpl\n",
        "import matplotlib.pyplot as plt\n",
        "import numpy as np\n",
        "\n",
        "# Uncomment following line to see the effect \n",
        "#mpl.rcParams['lines.linewidth'] = 5\n",
        "\n",
        "# Prepare the data\n",
        "x = np.linspace(0, 10, 100)\n",
        "\n",
        "# Plot the data\n",
        "plt.plot(x, x, label='linear')\n",
        "\n",
        "# Add a legend\n",
        "plt.legend()\n",
        "\n",
        "# Show the plot\n",
        "plt.show()"
      ],
      "execution_count": 73,
      "outputs": [
        {
          "output_type": "display_data",
          "data": {
            "image/png": "[encoded data removed]",
            "text/plain": [
              "<Figure size 360x216 with 1 Axes>"
            ]
          },
          "metadata": {
            "tags": []
          }
        }
      ]
    },
    {
      "metadata": {
        "id": "A69WZAZfpl73",
        "colab_type": "code",
        "colab": {
          "base_uri": "https://localhost:8080/",
          "height": 211
        },
        "outputId": "565576a4-6958-4f36-f8d1-7547c5b783f9"
      },
      "cell_type": "code",
      "source": [
        "# Import the necessary packages and modules\n",
        "import matplotlib as mpl\n",
        "import matplotlib.pyplot as plt\n",
        "import numpy as np\n",
        "\n",
        "# Uncomment following line to see the effect \n",
        "mpl.rcParams['lines.linewidth'] = 5\n",
        "\n",
        "# Prepare the data\n",
        "x = np.linspace(0, 10, 100)\n",
        "\n",
        "# Plot the data\n",
        "plt.plot(x, x, label='linear')\n",
        "\n",
        "# Add a legend\n",
        "plt.legend()\n",
        "\n",
        "# Show the plot\n",
        "plt.show()"
      ],
      "execution_count": 74,
      "outputs": [
        {
          "output_type": "display_data",
          "data": {
            "image/png": "[encoded data removed]",
            "text/plain": [
              "<Figure size 360x216 with 1 Axes>"
            ]
          },
          "metadata": {
            "tags": []
          }
        }
      ]
    },
    {
      "metadata": {
        "id": "-x-F7uPop0LG",
        "colab_type": "text"
      },
      "cell_type": "markdown",
      "source": [
        "You just adjusted the line width in the example above, but you can also change figure size and dpi, line width, color and style, axes, axis and grid properties, text and font properties, …\n",
        "\n",
        "If you want to work more statically, you should probably also know that you have a **matplotlibrc** configuration file, which you can use to customize all kinds of properties (just like you did above with the line width parameter). If you want to find this specific file, you can just run the following:"
      ]
    },
    {
      "metadata": {
        "id": "G5Gy5vMoppOH",
        "colab_type": "code",
        "colab": {
          "base_uri": "https://localhost:8080/",
          "height": 34
        },
        "outputId": "b9b34476-5e56-4e7c-8651-aab3f1a0b9df"
      },
      "cell_type": "code",
      "source": [
        "import matplotlib\n",
        "\n",
        "matplotlib.matplotlib_fname()"
      ],
      "execution_count": 75,
      "outputs": [
        {
          "output_type": "execute_result",
          "data": {
            "text/plain": [
              "'/usr/local/lib/python3.6/dist-packages/matplotlib/mpl-data/matplotlibrc'"
            ]
          },
          "metadata": {
            "tags": []
          },
          "execution_count": 75
        }
      ]
    },
    {
      "metadata": {
        "id": "c6924RZCqA0f",
        "colab_type": "text"
      },
      "cell_type": "markdown",
      "source": [
        "# Continue Learning\n",
        "\n",
        "Congratulations! You have gone through today’s Matplotlib tutorial successfully! There is still much to learn, but you’re definitely ready to go out on your own and create your own amazing plots. Don’t miss out on DataCamp’s Matplotlib cheat sheet that can help you to make plots in no time, step by step.\n",
        "\n",
        "If you’re eager to discover more from Matplotlib, consider checking out DataCamp’s Viewing 3D Volumetric Data With Matplotlib tutorial to learn how to work with matplotlib’s event handler API or this tutorial, in which you’ll learn all about animating your plots.\n",
        "\n",
        "If you’re ready to start exploring interactive data visualizations with Python, consider taking DataCamp’s **Bokeh course** and don’t miss our **Bokeh cheat sheet.**"
      ]
    },
    {
      "metadata": {
        "id": "a3RqQjd7p5qk",
        "colab_type": "code",
        "colab": {}
      },
      "cell_type": "code",
      "source": [
        ""
      ],
      "execution_count": 0,
      "outputs": []
    }
  ]
}